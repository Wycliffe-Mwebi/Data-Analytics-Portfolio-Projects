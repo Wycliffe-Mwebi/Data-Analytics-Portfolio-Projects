{
 "cells": [
  {
   "cell_type": "markdown",
   "metadata": {},
   "source": [
    "# How does volatility impact returns - part 2\n",
    "In part 1 of \"How does volatility impact returns?\", we looked at scenarios where the mean return was the same, but volatility (standard deviation) was different. The conclusions were that:\n",
    "\n",
    "- Volatility does not have an impact on expected returns\n",
    "- But volatility does impact the probability of reaching various financial goals\n",
    "\n",
    "However, in the real world, lower volatility often results in lower average returns:\n",
    "\n",
    "\"When volatility increases, risk increases and returns decrease. Risk is represented by the dispersion of returns around the mean.\" (http://www.investopedia.com/articles/financial-theory/08/volatility.asp#ixzz4KG4pag92)\n",
    "\n",
    "So in this part 2, we'll look at whether its better to invest in higher-risk/higher average return funds, or lower-risk/lower average return funds.\n",
    "\n",
    "### So what's the relationship between mean returns and volatility?\n",
    "\n",
    "According to empirical analysis of Vanguard's mutual funds (see vanguard_fund_analysis), here is an equation to relate mean return with expected mean standard deviation:"
   ]
  },
  {
   "cell_type": "code",
   "execution_count": 1,
   "metadata": {},
   "outputs": [],
   "source": [
    "\n",
    "def investment_mean_to_std(mean_return):\n",
    "    \"\"\" Given the mean return, output the standard deviation return. \"\"\"\n",
    "    slope = 3.4856115546738726\n",
    "    intercept = 2.2961232860559\n",
    "    return slope * mean_return + intercept"
   ]
  },
  {
   "cell_type": "code",
   "execution_count": 2,
   "metadata": {},
   "outputs": [
    {
     "data": {
      "text/plain": [
       "[37.15223883279463, 30.18101572344688, 23.209792614099133, 16.23856950475139]"
      ]
     },
     "execution_count": 2,
     "metadata": {},
     "output_type": "execute_result"
    }
   ],
   "source": [
    "mutual_fund_mean_returns = [10, 8, 6, 4]\n",
    "mutual_fund_std_returns = [investment_mean_to_std(mean_return) for mean_return in mutual_fund_mean_returns]\n",
    "mutual_fund_std_returns"
   ]
  },
  {
   "cell_type": "markdown",
   "metadata": {},
   "source": [
    "Okay, so now we have some good numbers to go on to build some hypothetical funds to analyze...\n",
    "\n",
    "### Hypothetical Funds\n",
    "- Fund 1: return mean: 10%, standard deviation: 37.15%\n",
    "- Fund 2: return mean: 8%, standard deviation: 30.18%\n",
    "- Fund 3: return mean: 6%, standard deviation: 23.21%\n",
    "- Fund 4: return mean: 4%, standard deviation: 16.24%\n",
    "\n",
    "And again, we will be contributing $5,500 per year to these funds, and running the simulation for 30 years."
   ]
  },
  {
   "cell_type": "code",
   "execution_count": null,
   "metadata": {},
   "outputs": [],
   "source": []
  }
 ],
 "metadata": {
  "kernelspec": {
   "display_name": "Python 3",
   "language": "python",
   "name": "python3"
  },
  "language_info": {
   "codemirror_mode": {
    "name": "ipython",
    "version": 3
   },
   "file_extension": ".py",
   "mimetype": "text/x-python",
   "name": "python",
   "nbconvert_exporter": "python",
   "pygments_lexer": "ipython3",
   "version": "3.7.6"
  }
 },
 "nbformat": 4,
 "nbformat_minor": 4
}
